{
 "cells": [
  {
   "cell_type": "markdown",
   "id": "0ba71bb7",
   "metadata": {},
   "source": [
    "# GLM Express: Subject / First-Level Demonstration"
   ]
  },
  {
   "cell_type": "code",
   "execution_count": 1,
   "id": "2d6b5910",
   "metadata": {},
   "outputs": [],
   "source": [
    "# You can safely ignore this cell - just for local setup\n",
    "%load_ext autoreload\n",
    "%autoreload 2\n",
    "\n",
    "import os\n",
    "here = os.getcwd()\n",
    "\n",
    "if '/demo' in here:\n",
    "    os.chdir('..')"
   ]
  },
  {
   "cell_type": "code",
   "execution_count": 2,
   "id": "704534fc",
   "metadata": {},
   "outputs": [],
   "source": [
    "# Imports\n",
    "from glm_express import Subject\n",
    "import nilearn.plotting as nip\n",
    "from bids import BIDSLayout\n",
    "import nibabel as nib"
   ]
  },
  {
   "cell_type": "markdown",
   "id": "9ea88c46",
   "metadata": {},
   "source": [
    "Hello and welcome! `GLM Express` is a lightweight package for building simple GLMs for functional neuroimaging data. Before running, consider several assumptions that this package makes:\n",
    "\n",
    "* Your dataset is **BIDS validated**! This check is done implicitly at initialization, and the Subject object will fail if your dataset has any fatal errors\n",
    "\n",
    "* Your dataset has been preprocessed using `fmriprep`! We assume that your raw data and events files are stored in the root of your BIDS project, and that all of your preprocessed data (confound regressors and preprocessed BOLD NifTis) are stored in a `derivatives/fmriprep` sub-directory\n",
    "\n",
    "See below for an example dataset structure, and <a href=\"https://bids-specification.readthedocs.io/en/stable/\" target=\"_blank\">**see the docs**</a> for a much more verbose explanation of BIDS and its philosophy:"
   ]
  },
  {
   "cell_type": "code",
   "execution_count": 3,
   "id": "f850e77b",
   "metadata": {},
   "outputs": [
    {
     "name": "stdout",
     "output_type": "stream",
     "text": [
      "./bids_test/\n",
      "├── derivatives\n",
      "│   └── fmriprep\n",
      "│       ├── sub-10159\n",
      "│       │   └── func\n",
      "│       ├── sub-10171\n",
      "│       │   └── func\n",
      "│       ├── sub-10189\n",
      "│       │   └── func\n",
      "│       ├── sub-10206\n",
      "│       │   └── func\n",
      "│       ├── sub-10217\n",
      "│       │   └── func\n",
      "│       ├── sub-10225\n",
      "│       │   └── func\n",
      "│       ├── sub-10227\n",
      "│       │   └── func\n",
      "│       ├── sub-10228\n",
      "│       │   └── func\n",
      "│       ├── sub-10235\n",
      "│       │   └── func\n",
      "│       └── sub-10249\n",
      "│           └── func\n",
      "├── sub-10159\n",
      "│   ├── beh\n",
      "│   └── func\n",
      "├── sub-10171\n",
      "│   ├── beh\n",
      "│   └── func\n",
      "├── sub-10189\n",
      "│   ├── beh\n",
      "│   └── func\n",
      "├── sub-10206\n",
      "│   ├── beh\n",
      "│   └── func\n",
      "├── sub-10217\n",
      "│   ├── beh\n",
      "│   └── func\n",
      "├── sub-10225\n",
      "│   ├── beh\n",
      "│   └── func\n",
      "├── sub-10227\n",
      "│   ├── beh\n",
      "│   └── func\n",
      "├── sub-10228\n",
      "│   ├── beh\n",
      "│   └── func\n",
      "├── sub-10235\n",
      "│   ├── beh\n",
      "│   └── func\n",
      "└── sub-10249\n",
      "    ├── beh\n",
      "    └── func\n",
      "\n",
      "52 directories\n"
     ]
    }
   ],
   "source": [
    "%%bash\n",
    "tree ./bids_test/ -d"
   ]
  },
  {
   "cell_type": "markdown",
   "id": "68f951ba",
   "metadata": {},
   "source": [
    "Instantiating a `BIDSLayout` object is a solid sanity check to make sure your data is BIDS-compliant (this happens under the hood in GLM Express)"
   ]
  },
  {
   "cell_type": "code",
   "execution_count": 4,
   "id": "24cb72ac",
   "metadata": {},
   "outputs": [],
   "source": [
    "bids = BIDSLayout('./bids_test/')"
   ]
  },
  {
   "cell_type": "code",
   "execution_count": 5,
   "id": "ff03a6bb",
   "metadata": {},
   "outputs": [
    {
     "name": "stdout",
     "output_type": "stream",
     "text": [
      "['10159', '10171', '10189', '10206', '10217', '10225', '10227', '10228', '10235', '10249']\n"
     ]
    }
   ],
   "source": [
    "print(bids.get_subjects())"
   ]
  },
  {
   "cell_type": "markdown",
   "id": "e83234ff",
   "metadata": {},
   "source": [
    "-------------\n",
    "\n",
    "## Using the glm_express.Subject object\n",
    "\n",
    "Several parameters are required to instantiate a `Subject` object in `GLM Express`:\n",
    "\n",
    "* `sub_id`: Subject ID, which should match the subject's label in your BIDS project\n",
    "* `task`: The name of the functional task, which will match all relevant files\n",
    "* `bids_root`: The top of your BIDS project (we assume that you **are not** running `GLM Express` inside your BIDS project, but rather from at least one directory level above)\n",
    "\n",
    "In addition, there are multiple parameters with **default parameters**:\n",
    "\n",
    "* `suppress`: Defaults to `False` | Determines if a dictionary of Subject attributes print at `__init__`\n",
    "* `template_space`: Defaults to `MNI152NLin2009` | This is the template that your data was preprocessed to in `fmriprep`\n",
    "* `repetition_time`: Defaults to `1.` | The TR from you functional run\n",
    "* `dummy_scans`: Defaults to `0` | Any non-steady state volumes detected by `fmriprep`; these can be updated programatically before creating your design matrix\n",
    "\n",
    "The `Subject` object also creates a output directory when instantiated - this is where all of your contrast maps, plots and other data derived from your first level models will be stored"
   ]
  },
  {
   "cell_type": "code",
   "execution_count": 6,
   "id": "808b3e1c",
   "metadata": {},
   "outputs": [
    {
     "name": "stdout",
     "output_type": "stream",
     "text": [
      "{\n",
      "    \"Subject ID\": \"10159\",\n",
      "    \"Task\": \"stopsignal\",\n",
      "    \"# of Functional Runs\": 1,\n",
      "    \"Output Directory\": \"./bids_test/derivatives/first-level-output/sub-10159/task-stopsignal\",\n",
      "    \"Defined Contrasts\": \"default\",\n",
      "    \"Confound Regressors\": [\n",
      "        \"GlobalSignal\",\n",
      "        \"FramewiseDisplacement\",\n",
      "        \"WhiteMatter\",\n",
      "        \"stdDVARS\"\n",
      "    ]\n",
      "}\n"
     ]
    }
   ],
   "source": [
    "# Instantiate your Subject object\n",
    "subject = Subject('10159', task='stopsignal', bids_root='./bids_test/')"
   ]
  },
  {
   "cell_type": "code",
   "execution_count": 7,
   "id": "4c718b03",
   "metadata": {},
   "outputs": [
    {
     "data": {
      "text/plain": [
       "'./bids_test/derivatives/first-level-output/sub-10159/task-stopsignal'"
      ]
     },
     "execution_count": 7,
     "metadata": {},
     "output_type": "execute_result"
    }
   ],
   "source": [
    "subject.first_level_output"
   ]
  },
  {
   "cell_type": "markdown",
   "id": "c6341f7a",
   "metadata": {},
   "source": [
    "--------\n",
    "\n",
    "### Subject Attributes\n",
    "\n",
    "As we noted above, the `Subject` object defaults to several parameters but these can be easily overridden with the built-in `set_{ }` functions"
   ]
  },
  {
   "cell_type": "code",
   "execution_count": 8,
   "id": "98662bba",
   "metadata": {},
   "outputs": [
    {
     "data": {
      "text/plain": [
       "'MNI152NLin2009'"
      ]
     },
     "execution_count": 8,
     "metadata": {},
     "output_type": "execute_result"
    }
   ],
   "source": [
    "subject.template_space"
   ]
  },
  {
   "cell_type": "code",
   "execution_count": 9,
   "id": "8fd14f28",
   "metadata": {},
   "outputs": [
    {
     "data": {
      "text/plain": [
       "'MNI152Lin6'"
      ]
     },
     "execution_count": 9,
     "metadata": {},
     "output_type": "execute_result"
    }
   ],
   "source": [
    "subject.set_template_space('MNI152Lin6')\n",
    "subject.template_space"
   ]
  },
  {
   "cell_type": "code",
   "execution_count": 10,
   "id": "76ffa425",
   "metadata": {},
   "outputs": [
    {
     "data": {
      "text/plain": [
       "0"
      ]
     },
     "execution_count": 10,
     "metadata": {},
     "output_type": "execute_result"
    }
   ],
   "source": [
    "subject.dummy_scans"
   ]
  },
  {
   "cell_type": "code",
   "execution_count": 11,
   "id": "7792656c",
   "metadata": {},
   "outputs": [
    {
     "data": {
      "text/plain": [
       "2"
      ]
     },
     "execution_count": 11,
     "metadata": {},
     "output_type": "execute_result"
    }
   ],
   "source": [
    "subject.set_dummy_scans(2)\n",
    "subject.dummy_scans"
   ]
  },
  {
   "cell_type": "code",
   "execution_count": 12,
   "id": "0a29b481",
   "metadata": {},
   "outputs": [
    {
     "data": {
      "text/plain": [
       "1.0"
      ]
     },
     "execution_count": 12,
     "metadata": {},
     "output_type": "execute_result"
    }
   ],
   "source": [
    "subject.t_r"
   ]
  },
  {
   "cell_type": "code",
   "execution_count": 13,
   "id": "fc1baa83",
   "metadata": {},
   "outputs": [
    {
     "data": {
      "text/plain": [
       "2.0"
      ]
     },
     "execution_count": 13,
     "metadata": {},
     "output_type": "execute_result"
    }
   ],
   "source": [
    "subject.set_tr(2.)\n",
    "subject.t_r"
   ]
  },
  {
   "cell_type": "markdown",
   "id": "8619773e",
   "metadata": {},
   "source": [
    "The `Subject` object also creates a `bids_container` attribute - this is a dictionary with keys per functional run AND keys per data type (e.g., functional, events, confounds)"
   ]
  },
  {
   "cell_type": "code",
   "execution_count": 14,
   "id": "a77e88d3",
   "metadata": {},
   "outputs": [
    {
     "data": {
      "text/plain": [
       "{'run-1': {'func': './bids_test/derivatives/fmriprep/sub-10159/func/sub-10159_task-stopsignal_bold_space-MNI152NLin2009cAsym_preproc.nii.gz',\n",
       "  'event': './bids_test/sub-10159/func/sub-10159_task-stopsignal_events.tsv',\n",
       "  'confound': './bids_test/derivatives/fmriprep/sub-10159/func/sub-10159_task-stopsignal_bold_confounds.tsv'},\n",
       " 'all_func': ['./bids_test/derivatives/fmriprep/sub-10159/func/sub-10159_task-stopsignal_bold_space-MNI152NLin2009cAsym_preproc.nii.gz'],\n",
       " 'all_events': ['./bids_test/sub-10159/func/sub-10159_task-stopsignal_events.tsv'],\n",
       " 'all_confounds': ['./bids_test/derivatives/fmriprep/sub-10159/func/sub-10159_task-stopsignal_bold_confounds.tsv']}"
      ]
     },
     "execution_count": 14,
     "metadata": {},
     "output_type": "execute_result"
    }
   ],
   "source": [
    "subject.bids_container"
   ]
  },
  {
   "cell_type": "markdown",
   "id": "6150e030",
   "metadata": {},
   "source": [
    "This dictionary is also saved locally to the current subject's output directory in a JSON file"
   ]
  },
  {
   "cell_type": "code",
   "execution_count": 15,
   "id": "b3cab1c1",
   "metadata": {},
   "outputs": [
    {
     "data": {
      "text/plain": [
       "['models', 'plots', 'sub-10159_task-stopsignal_bids-container.json']"
      ]
     },
     "execution_count": 15,
     "metadata": {},
     "output_type": "execute_result"
    }
   ],
   "source": [
    "os.listdir(subject.first_level_output)"
   ]
  },
  {
   "cell_type": "markdown",
   "id": "4076d45a",
   "metadata": {},
   "source": [
    "------\n",
    "\n",
    "### Building a Model\n",
    "\n",
    "To build a simple GLM, we need the **preprocessed NifTi files** and a **design matrix corresponding to each functional run** ... `GLM Express` is optimized to accept run arguments, but defaults to **\"ALL\"**, which gives you an aggregated DataFrame of either events or confounds"
   ]
  },
  {
   "cell_type": "code",
   "execution_count": 16,
   "id": "75668b3f",
   "metadata": {},
   "outputs": [
    {
     "name": "stdout",
     "output_type": "stream",
     "text": [
      "{\n",
      "    \"Subject ID\": \"10159\",\n",
      "    \"Task\": \"stopsignal\",\n",
      "    \"# of Functional Runs\": 1,\n",
      "    \"Output Directory\": \"./bids_test/derivatives/first-level-output/sub-10159/task-stopsignal\",\n",
      "    \"Defined Contrasts\": \"default\",\n",
      "    \"Confound Regressors\": [\n",
      "        \"GlobalSignal\",\n",
      "        \"FramewiseDisplacement\",\n",
      "        \"WhiteMatter\",\n",
      "        \"stdDVARS\"\n",
      "    ]\n",
      "}\n"
     ]
    }
   ],
   "source": [
    "# We'll start with a fresh Subject to model with\n",
    "subject = Subject('10159', task='stopsignal', bids_root='./bids_test/')"
   ]
  },
  {
   "cell_type": "code",
   "execution_count": 17,
   "id": "fad2b4f7",
   "metadata": {
    "scrolled": false
   },
   "outputs": [
    {
     "data": {
      "text/html": [
       "<div>\n",
       "<style scoped>\n",
       "    .dataframe tbody tr th:only-of-type {\n",
       "        vertical-align: middle;\n",
       "    }\n",
       "\n",
       "    .dataframe tbody tr th {\n",
       "        vertical-align: top;\n",
       "    }\n",
       "\n",
       "    .dataframe thead th {\n",
       "        text-align: right;\n",
       "    }\n",
       "</style>\n",
       "<table border=\"1\" class=\"dataframe\">\n",
       "  <thead>\n",
       "    <tr style=\"text-align: right;\">\n",
       "      <th></th>\n",
       "      <th>onset</th>\n",
       "      <th>duration</th>\n",
       "      <th>trial_type</th>\n",
       "      <th>PresentedStimulusArrowDirection</th>\n",
       "      <th>ReactionTime</th>\n",
       "      <th>SubjectResponseButton</th>\n",
       "      <th>SubjectResponseButtonCode</th>\n",
       "      <th>SubjectResponseCorrectness</th>\n",
       "      <th>TrialOutcome</th>\n",
       "      <th>StopSignalDelay</th>\n",
       "      <th>LadderNumber</th>\n",
       "      <th>LadderTime</th>\n",
       "      <th>LadderMovement</th>\n",
       "      <th>TimeCourse</th>\n",
       "      <th>onset_noTriggerAdjust</th>\n",
       "      <th>TimeCourse_noTriggerAdjust</th>\n",
       "      <th>run</th>\n",
       "    </tr>\n",
       "  </thead>\n",
       "  <tbody>\n",
       "    <tr>\n",
       "      <th>0</th>\n",
       "      <td>0.006134</td>\n",
       "      <td>1.500</td>\n",
       "      <td>GO</td>\n",
       "      <td>LEFT</td>\n",
       "      <td>0.416274</td>\n",
       "      <td>LEFT</td>\n",
       "      <td>5</td>\n",
       "      <td>CorrectResponse</td>\n",
       "      <td>SuccessfulGo</td>\n",
       "      <td>0.0</td>\n",
       "      <td>0</td>\n",
       "      <td>0</td>\n",
       "      <td>0</td>\n",
       "      <td>0.000</td>\n",
       "      <td>0.006134</td>\n",
       "      <td>0.000</td>\n",
       "      <td>1</td>\n",
       "    </tr>\n",
       "    <tr>\n",
       "      <th>1</th>\n",
       "      <td>0.000000</td>\n",
       "      <td>2.250</td>\n",
       "      <td>NaN</td>\n",
       "      <td>BLANKSCREEN</td>\n",
       "      <td>0.000000</td>\n",
       "      <td>NaN</td>\n",
       "      <td>0</td>\n",
       "      <td>NaN</td>\n",
       "      <td>NaN</td>\n",
       "      <td>0.0</td>\n",
       "      <td>0</td>\n",
       "      <td>0</td>\n",
       "      <td>0</td>\n",
       "      <td>1.500</td>\n",
       "      <td>0.000000</td>\n",
       "      <td>1.500</td>\n",
       "      <td>1</td>\n",
       "    </tr>\n",
       "    <tr>\n",
       "      <th>2</th>\n",
       "      <td>3.762595</td>\n",
       "      <td>1.500</td>\n",
       "      <td>GO</td>\n",
       "      <td>RIGHT</td>\n",
       "      <td>0.395370</td>\n",
       "      <td>RIGHT</td>\n",
       "      <td>28</td>\n",
       "      <td>CorrectResponse</td>\n",
       "      <td>SuccessfulGo</td>\n",
       "      <td>0.0</td>\n",
       "      <td>0</td>\n",
       "      <td>0</td>\n",
       "      <td>0</td>\n",
       "      <td>3.750</td>\n",
       "      <td>3.762595</td>\n",
       "      <td>3.750</td>\n",
       "      <td>1</td>\n",
       "    </tr>\n",
       "    <tr>\n",
       "      <th>3</th>\n",
       "      <td>0.000000</td>\n",
       "      <td>0.750</td>\n",
       "      <td>NaN</td>\n",
       "      <td>BLANKSCREEN</td>\n",
       "      <td>0.000000</td>\n",
       "      <td>NaN</td>\n",
       "      <td>0</td>\n",
       "      <td>NaN</td>\n",
       "      <td>NaN</td>\n",
       "      <td>0.0</td>\n",
       "      <td>0</td>\n",
       "      <td>0</td>\n",
       "      <td>0</td>\n",
       "      <td>5.250</td>\n",
       "      <td>0.000000</td>\n",
       "      <td>5.250</td>\n",
       "      <td>1</td>\n",
       "    </tr>\n",
       "    <tr>\n",
       "      <th>4</th>\n",
       "      <td>6.013056</td>\n",
       "      <td>1.500</td>\n",
       "      <td>GO</td>\n",
       "      <td>LEFT</td>\n",
       "      <td>0.397906</td>\n",
       "      <td>LEFT</td>\n",
       "      <td>5</td>\n",
       "      <td>CorrectResponse</td>\n",
       "      <td>SuccessfulGo</td>\n",
       "      <td>0.0</td>\n",
       "      <td>0</td>\n",
       "      <td>0</td>\n",
       "      <td>0</td>\n",
       "      <td>6.000</td>\n",
       "      <td>6.013056</td>\n",
       "      <td>6.000</td>\n",
       "      <td>1</td>\n",
       "    </tr>\n",
       "    <tr>\n",
       "      <th>...</th>\n",
       "      <td>...</td>\n",
       "      <td>...</td>\n",
       "      <td>...</td>\n",
       "      <td>...</td>\n",
       "      <td>...</td>\n",
       "      <td>...</td>\n",
       "      <td>...</td>\n",
       "      <td>...</td>\n",
       "      <td>...</td>\n",
       "      <td>...</td>\n",
       "      <td>...</td>\n",
       "      <td>...</td>\n",
       "      <td>...</td>\n",
       "      <td>...</td>\n",
       "      <td>...</td>\n",
       "      <td>...</td>\n",
       "      <td>...</td>\n",
       "    </tr>\n",
       "    <tr>\n",
       "      <th>251</th>\n",
       "      <td>0.000000</td>\n",
       "      <td>0.500</td>\n",
       "      <td>NaN</td>\n",
       "      <td>BLANKSCREEN</td>\n",
       "      <td>0.000000</td>\n",
       "      <td>NaN</td>\n",
       "      <td>0</td>\n",
       "      <td>NaN</td>\n",
       "      <td>NaN</td>\n",
       "      <td>0.0</td>\n",
       "      <td>0</td>\n",
       "      <td>0</td>\n",
       "      <td>0</td>\n",
       "      <td>347.375</td>\n",
       "      <td>0.000000</td>\n",
       "      <td>347.375</td>\n",
       "      <td>1</td>\n",
       "    </tr>\n",
       "    <tr>\n",
       "      <th>252</th>\n",
       "      <td>347.888159</td>\n",
       "      <td>1.500</td>\n",
       "      <td>GO</td>\n",
       "      <td>LEFT</td>\n",
       "      <td>0.515824</td>\n",
       "      <td>LEFT</td>\n",
       "      <td>5</td>\n",
       "      <td>CorrectResponse</td>\n",
       "      <td>SuccessfulGo</td>\n",
       "      <td>0.0</td>\n",
       "      <td>0</td>\n",
       "      <td>0</td>\n",
       "      <td>0</td>\n",
       "      <td>347.875</td>\n",
       "      <td>347.888159</td>\n",
       "      <td>347.875</td>\n",
       "      <td>1</td>\n",
       "    </tr>\n",
       "    <tr>\n",
       "      <th>253</th>\n",
       "      <td>0.000000</td>\n",
       "      <td>1.500</td>\n",
       "      <td>NaN</td>\n",
       "      <td>BLANKSCREEN</td>\n",
       "      <td>0.000000</td>\n",
       "      <td>NaN</td>\n",
       "      <td>0</td>\n",
       "      <td>NaN</td>\n",
       "      <td>NaN</td>\n",
       "      <td>0.0</td>\n",
       "      <td>0</td>\n",
       "      <td>0</td>\n",
       "      <td>0</td>\n",
       "      <td>349.375</td>\n",
       "      <td>0.000000</td>\n",
       "      <td>349.375</td>\n",
       "      <td>1</td>\n",
       "    </tr>\n",
       "    <tr>\n",
       "      <th>254</th>\n",
       "      <td>350.883213</td>\n",
       "      <td>1.500</td>\n",
       "      <td>GO</td>\n",
       "      <td>RIGHT</td>\n",
       "      <td>0.383631</td>\n",
       "      <td>RIGHT</td>\n",
       "      <td>28</td>\n",
       "      <td>CorrectResponse</td>\n",
       "      <td>SuccessfulGo</td>\n",
       "      <td>0.0</td>\n",
       "      <td>0</td>\n",
       "      <td>0</td>\n",
       "      <td>0</td>\n",
       "      <td>350.875</td>\n",
       "      <td>350.883213</td>\n",
       "      <td>350.875</td>\n",
       "      <td>1</td>\n",
       "    </tr>\n",
       "    <tr>\n",
       "      <th>255</th>\n",
       "      <td>0.000000</td>\n",
       "      <td>0.625</td>\n",
       "      <td>NaN</td>\n",
       "      <td>BLANKSCREEN</td>\n",
       "      <td>0.000000</td>\n",
       "      <td>NaN</td>\n",
       "      <td>0</td>\n",
       "      <td>NaN</td>\n",
       "      <td>NaN</td>\n",
       "      <td>0.0</td>\n",
       "      <td>0</td>\n",
       "      <td>0</td>\n",
       "      <td>0</td>\n",
       "      <td>352.375</td>\n",
       "      <td>0.000000</td>\n",
       "      <td>352.375</td>\n",
       "      <td>1</td>\n",
       "    </tr>\n",
       "  </tbody>\n",
       "</table>\n",
       "<p>256 rows × 17 columns</p>\n",
       "</div>"
      ],
      "text/plain": [
       "          onset  duration trial_type PresentedStimulusArrowDirection  \\\n",
       "0      0.006134     1.500         GO                            LEFT   \n",
       "1      0.000000     2.250        NaN                     BLANKSCREEN   \n",
       "2      3.762595     1.500         GO                           RIGHT   \n",
       "3      0.000000     0.750        NaN                     BLANKSCREEN   \n",
       "4      6.013056     1.500         GO                            LEFT   \n",
       "..          ...       ...        ...                             ...   \n",
       "251    0.000000     0.500        NaN                     BLANKSCREEN   \n",
       "252  347.888159     1.500         GO                            LEFT   \n",
       "253    0.000000     1.500        NaN                     BLANKSCREEN   \n",
       "254  350.883213     1.500         GO                           RIGHT   \n",
       "255    0.000000     0.625        NaN                     BLANKSCREEN   \n",
       "\n",
       "     ReactionTime SubjectResponseButton  SubjectResponseButtonCode  \\\n",
       "0        0.416274                  LEFT                          5   \n",
       "1        0.000000                   NaN                          0   \n",
       "2        0.395370                 RIGHT                         28   \n",
       "3        0.000000                   NaN                          0   \n",
       "4        0.397906                  LEFT                          5   \n",
       "..            ...                   ...                        ...   \n",
       "251      0.000000                   NaN                          0   \n",
       "252      0.515824                  LEFT                          5   \n",
       "253      0.000000                   NaN                          0   \n",
       "254      0.383631                 RIGHT                         28   \n",
       "255      0.000000                   NaN                          0   \n",
       "\n",
       "    SubjectResponseCorrectness  TrialOutcome  StopSignalDelay  LadderNumber  \\\n",
       "0              CorrectResponse  SuccessfulGo              0.0             0   \n",
       "1                          NaN           NaN              0.0             0   \n",
       "2              CorrectResponse  SuccessfulGo              0.0             0   \n",
       "3                          NaN           NaN              0.0             0   \n",
       "4              CorrectResponse  SuccessfulGo              0.0             0   \n",
       "..                         ...           ...              ...           ...   \n",
       "251                        NaN           NaN              0.0             0   \n",
       "252            CorrectResponse  SuccessfulGo              0.0             0   \n",
       "253                        NaN           NaN              0.0             0   \n",
       "254            CorrectResponse  SuccessfulGo              0.0             0   \n",
       "255                        NaN           NaN              0.0             0   \n",
       "\n",
       "     LadderTime  LadderMovement  TimeCourse  onset_noTriggerAdjust  \\\n",
       "0             0               0       0.000               0.006134   \n",
       "1             0               0       1.500               0.000000   \n",
       "2             0               0       3.750               3.762595   \n",
       "3             0               0       5.250               0.000000   \n",
       "4             0               0       6.000               6.013056   \n",
       "..          ...             ...         ...                    ...   \n",
       "251           0               0     347.375               0.000000   \n",
       "252           0               0     347.875             347.888159   \n",
       "253           0               0     349.375               0.000000   \n",
       "254           0               0     350.875             350.883213   \n",
       "255           0               0     352.375               0.000000   \n",
       "\n",
       "     TimeCourse_noTriggerAdjust  run  \n",
       "0                         0.000    1  \n",
       "1                         1.500    1  \n",
       "2                         3.750    1  \n",
       "3                         5.250    1  \n",
       "4                         6.000    1  \n",
       "..                          ...  ...  \n",
       "251                     347.375    1  \n",
       "252                     347.875    1  \n",
       "253                     349.375    1  \n",
       "254                     350.875    1  \n",
       "255                     352.375    1  \n",
       "\n",
       "[256 rows x 17 columns]"
      ]
     },
     "execution_count": 17,
     "metadata": {},
     "output_type": "execute_result"
    }
   ],
   "source": [
    "subject.load_events(run=1)"
   ]
  },
  {
   "cell_type": "code",
   "execution_count": 18,
   "id": "b83500fc",
   "metadata": {},
   "outputs": [
    {
     "data": {
      "text/html": [
       "<div>\n",
       "<style scoped>\n",
       "    .dataframe tbody tr th:only-of-type {\n",
       "        vertical-align: middle;\n",
       "    }\n",
       "\n",
       "    .dataframe tbody tr th {\n",
       "        vertical-align: top;\n",
       "    }\n",
       "\n",
       "    .dataframe thead th {\n",
       "        text-align: right;\n",
       "    }\n",
       "</style>\n",
       "<table border=\"1\" class=\"dataframe\">\n",
       "  <thead>\n",
       "    <tr style=\"text-align: right;\">\n",
       "      <th></th>\n",
       "      <th>WhiteMatter</th>\n",
       "      <th>GlobalSignal</th>\n",
       "      <th>stdDVARS</th>\n",
       "      <th>non-stdDVARS</th>\n",
       "      <th>vx-wisestdDVARS</th>\n",
       "      <th>FramewiseDisplacement</th>\n",
       "      <th>tCompCor00</th>\n",
       "      <th>tCompCor01</th>\n",
       "      <th>tCompCor02</th>\n",
       "      <th>tCompCor03</th>\n",
       "      <th>...</th>\n",
       "      <th>aCompCor03</th>\n",
       "      <th>aCompCor04</th>\n",
       "      <th>aCompCor05</th>\n",
       "      <th>X</th>\n",
       "      <th>Y</th>\n",
       "      <th>Z</th>\n",
       "      <th>RotX</th>\n",
       "      <th>RotY</th>\n",
       "      <th>RotZ</th>\n",
       "      <th>run</th>\n",
       "    </tr>\n",
       "  </thead>\n",
       "  <tbody>\n",
       "    <tr>\n",
       "      <th>0</th>\n",
       "      <td>-0.899719</td>\n",
       "      <td>2.227516</td>\n",
       "      <td>NaN</td>\n",
       "      <td>NaN</td>\n",
       "      <td>NaN</td>\n",
       "      <td>NaN</td>\n",
       "      <td>-0.118771</td>\n",
       "      <td>0.113172</td>\n",
       "      <td>-0.032137</td>\n",
       "      <td>0.041810</td>\n",
       "      <td>...</td>\n",
       "      <td>0.018290</td>\n",
       "      <td>-0.106118</td>\n",
       "      <td>0.188625</td>\n",
       "      <td>0.143525</td>\n",
       "      <td>-0.052645</td>\n",
       "      <td>-0.274967</td>\n",
       "      <td>0.001024</td>\n",
       "      <td>0.001434</td>\n",
       "      <td>0.000467</td>\n",
       "      <td>1</td>\n",
       "    </tr>\n",
       "    <tr>\n",
       "      <th>1</th>\n",
       "      <td>-1.246341</td>\n",
       "      <td>0.326954</td>\n",
       "      <td>1.090498</td>\n",
       "      <td>24.634428</td>\n",
       "      <td>1.026863</td>\n",
       "      <td>0.099904</td>\n",
       "      <td>-0.181387</td>\n",
       "      <td>0.036984</td>\n",
       "      <td>0.113388</td>\n",
       "      <td>0.048676</td>\n",
       "      <td>...</td>\n",
       "      <td>0.058030</td>\n",
       "      <td>-0.015722</td>\n",
       "      <td>0.111118</td>\n",
       "      <td>0.163622</td>\n",
       "      <td>-0.028109</td>\n",
       "      <td>-0.263217</td>\n",
       "      <td>0.000837</td>\n",
       "      <td>0.002068</td>\n",
       "      <td>0.000516</td>\n",
       "      <td>1</td>\n",
       "    </tr>\n",
       "    <tr>\n",
       "      <th>2</th>\n",
       "      <td>0.366020</td>\n",
       "      <td>-1.068786</td>\n",
       "      <td>1.151430</td>\n",
       "      <td>26.010887</td>\n",
       "      <td>1.027507</td>\n",
       "      <td>0.252018</td>\n",
       "      <td>-0.046286</td>\n",
       "      <td>-0.033369</td>\n",
       "      <td>-0.076722</td>\n",
       "      <td>0.032938</td>\n",
       "      <td>...</td>\n",
       "      <td>-0.052342</td>\n",
       "      <td>-0.031574</td>\n",
       "      <td>-0.061752</td>\n",
       "      <td>0.118415</td>\n",
       "      <td>-0.006555</td>\n",
       "      <td>-0.167094</td>\n",
       "      <td>0.001868</td>\n",
       "      <td>0.001368</td>\n",
       "      <td>0.000464</td>\n",
       "      <td>1</td>\n",
       "    </tr>\n",
       "    <tr>\n",
       "      <th>3</th>\n",
       "      <td>-0.564770</td>\n",
       "      <td>-1.443347</td>\n",
       "      <td>1.106344</td>\n",
       "      <td>24.992373</td>\n",
       "      <td>0.920317</td>\n",
       "      <td>0.122212</td>\n",
       "      <td>-0.043669</td>\n",
       "      <td>-0.053250</td>\n",
       "      <td>-0.036809</td>\n",
       "      <td>-0.024905</td>\n",
       "      <td>...</td>\n",
       "      <td>0.010522</td>\n",
       "      <td>-0.061436</td>\n",
       "      <td>0.018885</td>\n",
       "      <td>0.096408</td>\n",
       "      <td>-0.006393</td>\n",
       "      <td>-0.137269</td>\n",
       "      <td>0.000894</td>\n",
       "      <td>0.000948</td>\n",
       "      <td>0.000454</td>\n",
       "      <td>1</td>\n",
       "    </tr>\n",
       "    <tr>\n",
       "      <th>4</th>\n",
       "      <td>-1.436600</td>\n",
       "      <td>-3.153236</td>\n",
       "      <td>0.914109</td>\n",
       "      <td>20.649788</td>\n",
       "      <td>0.871629</td>\n",
       "      <td>0.014257</td>\n",
       "      <td>-0.074981</td>\n",
       "      <td>-0.079292</td>\n",
       "      <td>0.079099</td>\n",
       "      <td>-0.054966</td>\n",
       "      <td>...</td>\n",
       "      <td>0.063985</td>\n",
       "      <td>-0.049137</td>\n",
       "      <td>0.070348</td>\n",
       "      <td>0.102231</td>\n",
       "      <td>-0.006412</td>\n",
       "      <td>-0.136650</td>\n",
       "      <td>0.001024</td>\n",
       "      <td>0.000948</td>\n",
       "      <td>0.000429</td>\n",
       "      <td>1</td>\n",
       "    </tr>\n",
       "    <tr>\n",
       "      <th>...</th>\n",
       "      <td>...</td>\n",
       "      <td>...</td>\n",
       "      <td>...</td>\n",
       "      <td>...</td>\n",
       "      <td>...</td>\n",
       "      <td>...</td>\n",
       "      <td>...</td>\n",
       "      <td>...</td>\n",
       "      <td>...</td>\n",
       "      <td>...</td>\n",
       "      <td>...</td>\n",
       "      <td>...</td>\n",
       "      <td>...</td>\n",
       "      <td>...</td>\n",
       "      <td>...</td>\n",
       "      <td>...</td>\n",
       "      <td>...</td>\n",
       "      <td>...</td>\n",
       "      <td>...</td>\n",
       "      <td>...</td>\n",
       "      <td>...</td>\n",
       "    </tr>\n",
       "    <tr>\n",
       "      <th>179</th>\n",
       "      <td>0.513565</td>\n",
       "      <td>-0.389184</td>\n",
       "      <td>1.118991</td>\n",
       "      <td>25.278082</td>\n",
       "      <td>0.983155</td>\n",
       "      <td>0.183595</td>\n",
       "      <td>-0.089380</td>\n",
       "      <td>0.077009</td>\n",
       "      <td>0.035236</td>\n",
       "      <td>-0.036337</td>\n",
       "      <td>...</td>\n",
       "      <td>0.146618</td>\n",
       "      <td>0.032852</td>\n",
       "      <td>0.061648</td>\n",
       "      <td>-0.239208</td>\n",
       "      <td>0.295401</td>\n",
       "      <td>-0.695440</td>\n",
       "      <td>0.015381</td>\n",
       "      <td>0.000187</td>\n",
       "      <td>-0.008214</td>\n",
       "      <td>1</td>\n",
       "    </tr>\n",
       "    <tr>\n",
       "      <th>180</th>\n",
       "      <td>-0.904468</td>\n",
       "      <td>-4.511670</td>\n",
       "      <td>1.011077</td>\n",
       "      <td>22.840292</td>\n",
       "      <td>0.980504</td>\n",
       "      <td>0.085425</td>\n",
       "      <td>-0.113513</td>\n",
       "      <td>-0.016334</td>\n",
       "      <td>0.127348</td>\n",
       "      <td>-0.157195</td>\n",
       "      <td>...</td>\n",
       "      <td>0.196972</td>\n",
       "      <td>-0.086517</td>\n",
       "      <td>0.093522</td>\n",
       "      <td>-0.239296</td>\n",
       "      <td>0.272096</td>\n",
       "      <td>-0.659105</td>\n",
       "      <td>0.015512</td>\n",
       "      <td>0.000204</td>\n",
       "      <td>-0.008579</td>\n",
       "      <td>1</td>\n",
       "    </tr>\n",
       "    <tr>\n",
       "      <th>181</th>\n",
       "      <td>-1.420769</td>\n",
       "      <td>-6.542420</td>\n",
       "      <td>0.993432</td>\n",
       "      <td>22.441696</td>\n",
       "      <td>0.958697</td>\n",
       "      <td>0.226487</td>\n",
       "      <td>-0.108002</td>\n",
       "      <td>-0.102629</td>\n",
       "      <td>0.051931</td>\n",
       "      <td>-0.220408</td>\n",
       "      <td>...</td>\n",
       "      <td>0.158629</td>\n",
       "      <td>-0.156444</td>\n",
       "      <td>-0.031886</td>\n",
       "      <td>-0.222895</td>\n",
       "      <td>0.271756</td>\n",
       "      <td>-0.580863</td>\n",
       "      <td>0.014104</td>\n",
       "      <td>0.000714</td>\n",
       "      <td>-0.009290</td>\n",
       "      <td>1</td>\n",
       "    </tr>\n",
       "    <tr>\n",
       "      <th>182</th>\n",
       "      <td>-1.746273</td>\n",
       "      <td>-5.993458</td>\n",
       "      <td>1.013192</td>\n",
       "      <td>22.888075</td>\n",
       "      <td>0.931125</td>\n",
       "      <td>0.086695</td>\n",
       "      <td>-0.099087</td>\n",
       "      <td>-0.080652</td>\n",
       "      <td>-0.075379</td>\n",
       "      <td>-0.196365</td>\n",
       "      <td>...</td>\n",
       "      <td>0.161150</td>\n",
       "      <td>-0.022039</td>\n",
       "      <td>-0.135137</td>\n",
       "      <td>-0.239418</td>\n",
       "      <td>0.252843</td>\n",
       "      <td>-0.598063</td>\n",
       "      <td>0.014242</td>\n",
       "      <td>0.000242</td>\n",
       "      <td>-0.009219</td>\n",
       "      <td>1</td>\n",
       "    </tr>\n",
       "    <tr>\n",
       "      <th>183</th>\n",
       "      <td>-2.754395</td>\n",
       "      <td>-4.735695</td>\n",
       "      <td>0.930990</td>\n",
       "      <td>21.031126</td>\n",
       "      <td>0.854723</td>\n",
       "      <td>0.058631</td>\n",
       "      <td>-0.091480</td>\n",
       "      <td>-0.032773</td>\n",
       "      <td>-0.024237</td>\n",
       "      <td>-0.147408</td>\n",
       "      <td>...</td>\n",
       "      <td>0.180771</td>\n",
       "      <td>-0.010333</td>\n",
       "      <td>-0.025773</td>\n",
       "      <td>-0.261471</td>\n",
       "      <td>0.252864</td>\n",
       "      <td>-0.606944</td>\n",
       "      <td>0.013995</td>\n",
       "      <td>0.000127</td>\n",
       "      <td>-0.009028</td>\n",
       "      <td>1</td>\n",
       "    </tr>\n",
       "  </tbody>\n",
       "</table>\n",
       "<p>184 rows × 25 columns</p>\n",
       "</div>"
      ],
      "text/plain": [
       "     WhiteMatter  GlobalSignal  stdDVARS  non-stdDVARS  vx-wisestdDVARS  \\\n",
       "0      -0.899719      2.227516       NaN           NaN              NaN   \n",
       "1      -1.246341      0.326954  1.090498     24.634428         1.026863   \n",
       "2       0.366020     -1.068786  1.151430     26.010887         1.027507   \n",
       "3      -0.564770     -1.443347  1.106344     24.992373         0.920317   \n",
       "4      -1.436600     -3.153236  0.914109     20.649788         0.871629   \n",
       "..           ...           ...       ...           ...              ...   \n",
       "179     0.513565     -0.389184  1.118991     25.278082         0.983155   \n",
       "180    -0.904468     -4.511670  1.011077     22.840292         0.980504   \n",
       "181    -1.420769     -6.542420  0.993432     22.441696         0.958697   \n",
       "182    -1.746273     -5.993458  1.013192     22.888075         0.931125   \n",
       "183    -2.754395     -4.735695  0.930990     21.031126         0.854723   \n",
       "\n",
       "     FramewiseDisplacement  tCompCor00  tCompCor01  tCompCor02  tCompCor03  \\\n",
       "0                      NaN   -0.118771    0.113172   -0.032137    0.041810   \n",
       "1                 0.099904   -0.181387    0.036984    0.113388    0.048676   \n",
       "2                 0.252018   -0.046286   -0.033369   -0.076722    0.032938   \n",
       "3                 0.122212   -0.043669   -0.053250   -0.036809   -0.024905   \n",
       "4                 0.014257   -0.074981   -0.079292    0.079099   -0.054966   \n",
       "..                     ...         ...         ...         ...         ...   \n",
       "179               0.183595   -0.089380    0.077009    0.035236   -0.036337   \n",
       "180               0.085425   -0.113513   -0.016334    0.127348   -0.157195   \n",
       "181               0.226487   -0.108002   -0.102629    0.051931   -0.220408   \n",
       "182               0.086695   -0.099087   -0.080652   -0.075379   -0.196365   \n",
       "183               0.058631   -0.091480   -0.032773   -0.024237   -0.147408   \n",
       "\n",
       "     ...  aCompCor03  aCompCor04  aCompCor05         X         Y         Z  \\\n",
       "0    ...    0.018290   -0.106118    0.188625  0.143525 -0.052645 -0.274967   \n",
       "1    ...    0.058030   -0.015722    0.111118  0.163622 -0.028109 -0.263217   \n",
       "2    ...   -0.052342   -0.031574   -0.061752  0.118415 -0.006555 -0.167094   \n",
       "3    ...    0.010522   -0.061436    0.018885  0.096408 -0.006393 -0.137269   \n",
       "4    ...    0.063985   -0.049137    0.070348  0.102231 -0.006412 -0.136650   \n",
       "..   ...         ...         ...         ...       ...       ...       ...   \n",
       "179  ...    0.146618    0.032852    0.061648 -0.239208  0.295401 -0.695440   \n",
       "180  ...    0.196972   -0.086517    0.093522 -0.239296  0.272096 -0.659105   \n",
       "181  ...    0.158629   -0.156444   -0.031886 -0.222895  0.271756 -0.580863   \n",
       "182  ...    0.161150   -0.022039   -0.135137 -0.239418  0.252843 -0.598063   \n",
       "183  ...    0.180771   -0.010333   -0.025773 -0.261471  0.252864 -0.606944   \n",
       "\n",
       "         RotX      RotY      RotZ  run  \n",
       "0    0.001024  0.001434  0.000467    1  \n",
       "1    0.000837  0.002068  0.000516    1  \n",
       "2    0.001868  0.001368  0.000464    1  \n",
       "3    0.000894  0.000948  0.000454    1  \n",
       "4    0.001024  0.000948  0.000429    1  \n",
       "..        ...       ...       ...  ...  \n",
       "179  0.015381  0.000187 -0.008214    1  \n",
       "180  0.015512  0.000204 -0.008579    1  \n",
       "181  0.014104  0.000714 -0.009290    1  \n",
       "182  0.014242  0.000242 -0.009219    1  \n",
       "183  0.013995  0.000127 -0.009028    1  \n",
       "\n",
       "[184 rows x 25 columns]"
      ]
     },
     "execution_count": 18,
     "metadata": {},
     "output_type": "execute_result"
    }
   ],
   "source": [
    "subject.load_confounds(run=1)"
   ]
  },
  {
   "cell_type": "markdown",
   "id": "85df39a6",
   "metadata": {},
   "source": [
    "Likewise, the `generate_design_matrix` function takes a `run` argument as well ... for each functional run, this function aggregates relevant columns from the events file and your selected confounds (defined externally in the `task_information.json` file)"
   ]
  },
  {
   "cell_type": "code",
   "execution_count": 19,
   "id": "68c5cbcc",
   "metadata": {},
   "outputs": [
    {
     "data": {
      "text/plain": [
       "<AxesSubplot:label='conditions', ylabel='scan number'>"
      ]
     },
     "execution_count": 19,
     "metadata": {},
     "output_type": "execute_result"
    },
    {
     "data": {
      "image/png": "[encoded data removed]",
      "text/plain": [
       "<Figure size 237.6x720 with 1 Axes>"
      ]
     },
     "metadata": {
      "needs_background": "light"
     },
     "output_type": "display_data"
    }
   ],
   "source": [
    "nip.plot_design_matrix(subject.generate_design_matrix(run=1))"
   ]
  },
  {
   "cell_type": "markdown",
   "id": "3a64ca8e",
   "metadata": {},
   "source": [
    "The confounds below were selected for demonstrative purposes, but can be overriden by either:\n",
    "\n",
    "* Updating the `task_information.json` file manually, or\n",
    "* Updating the `Subject` attributes using `set_confound_regressors`"
   ]
  },
  {
   "cell_type": "code",
   "execution_count": 20,
   "id": "3052e156",
   "metadata": {},
   "outputs": [
    {
     "data": {
      "text/plain": [
       "['GlobalSignal', 'FramewiseDisplacement', 'WhiteMatter', 'stdDVARS']"
      ]
     },
     "execution_count": 20,
     "metadata": {},
     "output_type": "execute_result"
    }
   ],
   "source": [
    "subject.confound_regressors"
   ]
  },
  {
   "cell_type": "code",
   "execution_count": 21,
   "id": "d48eb5c7",
   "metadata": {},
   "outputs": [],
   "source": [
    "subject.set_confound_regressors([])"
   ]
  },
  {
   "cell_type": "code",
   "execution_count": 22,
   "id": "4eac76eb",
   "metadata": {},
   "outputs": [
    {
     "data": {
      "text/plain": [
       "<AxesSubplot:label='conditions', ylabel='scan number'>"
      ]
     },
     "execution_count": 22,
     "metadata": {},
     "output_type": "execute_result"
    },
    {
     "data": {
      "image/png": "[encoded data removed]",
      "text/plain": [
       "<Figure size 171.36x720 with 1 Axes>"
      ]
     },
     "metadata": {
      "needs_background": "light"
     },
     "output_type": "display_data"
    }
   ],
   "source": [
    "nip.plot_design_matrix(subject.generate_design_matrix(run=1))"
   ]
  },
  {
   "cell_type": "markdown",
   "id": "eb099f36",
   "metadata": {},
   "source": [
    "The contrasts for each task are `'default'` when the `task_information.json` file is created ... you can either update the file with a dictionary of contrasts, or feed your `Subject` a dictionary of contrasts\n",
    "\n",
    "In either case, you should follow `{contrast_name: column1 - column2}` format"
   ]
  },
  {
   "cell_type": "code",
   "execution_count": 23,
   "id": "2902161f",
   "metadata": {},
   "outputs": [
    {
     "data": {
      "text/plain": [
       "'default'"
      ]
     },
     "execution_count": 23,
     "metadata": {},
     "output_type": "execute_result"
    }
   ],
   "source": [
    "subject.contrasts"
   ]
  },
  {
   "cell_type": "code",
   "execution_count": 24,
   "id": "d06675b6",
   "metadata": {},
   "outputs": [],
   "source": [
    "subject.set_design_contrasts({'new_contrast':'STOP - GO'})"
   ]
  },
  {
   "cell_type": "code",
   "execution_count": 25,
   "id": "1c855882",
   "metadata": {},
   "outputs": [
    {
     "data": {
      "text/plain": [
       "{'new_contrast': 'STOP - GO'}"
      ]
     },
     "execution_count": 25,
     "metadata": {},
     "output_type": "execute_result"
    }
   ],
   "source": [
    "subject.contrasts"
   ]
  },
  {
   "cell_type": "markdown",
   "id": "26946cad",
   "metadata": {},
   "source": [
    "Your subject's first level output directory is empty by default:"
   ]
  },
  {
   "cell_type": "code",
   "execution_count": 26,
   "id": "4aca4095",
   "metadata": {},
   "outputs": [
    {
     "name": "stdout",
     "output_type": "stream",
     "text": [
      "./bids_test/derivatives/first-level-output/sub-10159/task-stopsignal/\n",
      "├── models\n",
      "│   ├── condition-maps\n",
      "│   └── contrast-maps\n",
      "├── plots\n",
      "│   ├── condition-maps\n",
      "│   └── contrast-maps\n",
      "└── sub-10159_task-stopsignal_bids-container.json\n",
      "\n",
      "6 directories, 1 file\n"
     ]
    }
   ],
   "source": [
    "%%bash\n",
    "tree ./bids_test/derivatives/first-level-output/sub-10159/task-stopsignal/"
   ]
  },
  {
   "cell_type": "markdown",
   "id": "57d96b20",
   "metadata": {},
   "source": [
    "Calling the `run_first_level_glm` function will create design matrices for each functional run, and fit a model to your specifications:"
   ]
  },
  {
   "cell_type": "code",
   "execution_count": 27,
   "id": "395f9113",
   "metadata": {},
   "outputs": [
    {
     "name": "stdout",
     "output_type": "stream",
     "text": [
      "\n",
      "            \n",
      "\n",
      "Running first-level designs for STOPSIGNAL with the following parameters:\n",
      "\n",
      "\n",
      "\n",
      "            Non-steady state regressors:\tFalse\n",
      "\n",
      "            Modulators:\t\t\t\tFalse\n",
      "\n",
      "            Auto-block regressors:\t\tFalse\n",
      "\n",
      "            Motion outliers:\t\t\tTrue\n",
      "\n",
      "            Fixation trials:\t\t\tTrue\n",
      "            \n",
      "\n",
      "\n",
      "            \n",
      "\n",
      "=== Fitting GLM ===\n"
     ]
    },
    {
     "name": "stderr",
     "output_type": "stream",
     "text": [
      "\r",
      "  0%|          | 0/2 [00:00<?, ?it/s]"
     ]
    },
    {
     "name": "stdout",
     "output_type": "stream",
     "text": [
      "\n",
      "=== Mapping condition z-scores ===\n",
      "\n"
     ]
    },
    {
     "name": "stderr",
     "output_type": "stream",
     "text": [
      "100%|██████████| 2/2 [00:08<00:00,  4.27s/it]\n",
      "  0%|          | 0/1 [00:00<?, ?it/s]"
     ]
    },
    {
     "name": "stdout",
     "output_type": "stream",
     "text": [
      "\n",
      "=== Mapping contrast z-scores ===\n",
      "\n"
     ]
    },
    {
     "name": "stderr",
     "output_type": "stream",
     "text": [
      "100%|██████████| 1/1 [00:05<00:00,  5.69s/it]"
     ]
    },
    {
     "name": "stdout",
     "output_type": "stream",
     "text": [
      "\n",
      "\n",
      "=== STOPSIGNAL contrasts computed! Subject 10159 has been mapped ===\n",
      "\n",
      "\n"
     ]
    },
    {
     "name": "stderr",
     "output_type": "stream",
     "text": [
      "\n"
     ]
    }
   ],
   "source": [
    "subject.run_first_level_glm()"
   ]
  },
  {
   "cell_type": "markdown",
   "id": "249ab0ce",
   "metadata": {},
   "source": [
    "All contrast maps, plots, and summary data files have been successfully stored in your subject's first level output directory:"
   ]
  },
  {
   "cell_type": "code",
   "execution_count": 28,
   "id": "8a002005",
   "metadata": {},
   "outputs": [
    {
     "name": "stdout",
     "output_type": "stream",
     "text": [
      "./bids_test/derivatives/first-level-output/sub-10159/task-stopsignal/\n",
      "├── models\n",
      "│   ├── condition-maps\n",
      "│   │   ├── sub-10159_condition-GO_smoothing-8mm_z-map.nii.gz\n",
      "│   │   └── sub-10159_condition-STOP_smoothing-8mm_z-map.nii.gz\n",
      "│   └── contrast-maps\n",
      "│       └── sub-10159_contrast-new_contrast_smoothing-8mm_z-map.nii.gz\n",
      "├── plots\n",
      "│   ├── condition-maps\n",
      "│   │   ├── sub-10159_condition-GO_smoothing-8mm_contrast-summary.html\n",
      "│   │   ├── sub-10159_condition-GO_smoothing-8mm_plot-stat-map.png\n",
      "│   │   ├── sub-10159_condition-STOP_smoothing-8mm_contrast-summary.html\n",
      "│   │   └── sub-10159_condition-STOP_smoothing-8mm_plot-stat-map.png\n",
      "│   ├── contrast-maps\n",
      "│   │   ├── sub-10159_contrast-new_contrast_smoothing-8mm_contrast-summary.html\n",
      "│   │   └── sub-10159_contrast-new_contrast_smoothing-8mm_plot-stat-map.png\n",
      "│   └── sub-10159_task-stopsignal_run-1_design-matrix.jpg\n",
      "└── sub-10159_task-stopsignal_bids-container.json\n",
      "\n",
      "6 directories, 11 files\n"
     ]
    }
   ],
   "source": [
    "%%bash\n",
    "tree ./bids_test/derivatives/first-level-output/sub-10159/task-stopsignal/"
   ]
  },
  {
   "cell_type": "markdown",
   "id": "7012d424",
   "metadata": {},
   "source": [
    "The `smoothing` parameter defaults to `8.`, but can be updated as you see fit. This also updates the naming conventions for all output files, so you don't have to worry about files being overwritten:"
   ]
  },
  {
   "cell_type": "code",
   "execution_count": 29,
   "id": "ff063db5",
   "metadata": {},
   "outputs": [
    {
     "name": "stdout",
     "output_type": "stream",
     "text": [
      "\n",
      "            \n",
      "\n",
      "Running first-level designs for STOPSIGNAL with the following parameters:\n",
      "\n",
      "\n",
      "\n",
      "            Non-steady state regressors:\tFalse\n",
      "\n",
      "            Modulators:\t\t\t\tFalse\n",
      "\n",
      "            Auto-block regressors:\t\tFalse\n",
      "\n",
      "            Motion outliers:\t\t\tTrue\n",
      "\n",
      "            Fixation trials:\t\t\tTrue\n",
      "            \n",
      "\n",
      "\n",
      "            \n",
      "\n",
      "=== Fitting GLM ===\n"
     ]
    },
    {
     "name": "stderr",
     "output_type": "stream",
     "text": [
      "\r",
      "  0%|          | 0/2 [00:00<?, ?it/s]"
     ]
    },
    {
     "name": "stdout",
     "output_type": "stream",
     "text": [
      "\n",
      "=== Mapping condition z-scores ===\n",
      "\n"
     ]
    },
    {
     "name": "stderr",
     "output_type": "stream",
     "text": [
      "100%|██████████| 2/2 [00:09<00:00,  4.69s/it]\n",
      "  0%|          | 0/1 [00:00<?, ?it/s]"
     ]
    },
    {
     "name": "stdout",
     "output_type": "stream",
     "text": [
      "\n",
      "=== Mapping contrast z-scores ===\n",
      "\n"
     ]
    },
    {
     "name": "stderr",
     "output_type": "stream",
     "text": [
      "100%|██████████| 1/1 [00:06<00:00,  6.84s/it]"
     ]
    },
    {
     "name": "stdout",
     "output_type": "stream",
     "text": [
      "\n",
      "\n",
      "=== STOPSIGNAL contrasts computed! Subject 10159 has been mapped ===\n",
      "\n",
      "\n"
     ]
    },
    {
     "name": "stderr",
     "output_type": "stream",
     "text": [
      "\n"
     ]
    }
   ],
   "source": [
    "subject.run_first_level_glm(smoothing=4.)"
   ]
  },
  {
   "cell_type": "code",
   "execution_count": 30,
   "id": "84986eb9",
   "metadata": {},
   "outputs": [
    {
     "name": "stdout",
     "output_type": "stream",
     "text": [
      "./bids_test/derivatives/first-level-output/sub-10159/task-stopsignal/\n",
      "├── models\n",
      "│   ├── condition-maps\n",
      "│   │   ├── sub-10159_condition-GO_smoothing-4mm_z-map.nii.gz\n",
      "│   │   ├── sub-10159_condition-GO_smoothing-8mm_z-map.nii.gz\n",
      "│   │   ├── sub-10159_condition-STOP_smoothing-4mm_z-map.nii.gz\n",
      "│   │   └── sub-10159_condition-STOP_smoothing-8mm_z-map.nii.gz\n",
      "│   └── contrast-maps\n",
      "│       ├── sub-10159_contrast-new_contrast_smoothing-4mm_z-map.nii.gz\n",
      "│       └── sub-10159_contrast-new_contrast_smoothing-8mm_z-map.nii.gz\n",
      "├── plots\n",
      "│   ├── condition-maps\n",
      "│   │   ├── sub-10159_condition-GO_smoothing-4mm_contrast-summary.html\n",
      "│   │   ├── sub-10159_condition-GO_smoothing-4mm_plot-stat-map.png\n",
      "│   │   ├── sub-10159_condition-GO_smoothing-8mm_contrast-summary.html\n",
      "│   │   ├── sub-10159_condition-GO_smoothing-8mm_plot-stat-map.png\n",
      "│   │   ├── sub-10159_condition-STOP_smoothing-4mm_contrast-summary.html\n",
      "│   │   ├── sub-10159_condition-STOP_smoothing-4mm_plot-stat-map.png\n",
      "│   │   ├── sub-10159_condition-STOP_smoothing-8mm_contrast-summary.html\n",
      "│   │   └── sub-10159_condition-STOP_smoothing-8mm_plot-stat-map.png\n",
      "│   ├── contrast-maps\n",
      "│   │   ├── sub-10159_contrast-new_contrast_smoothing-4mm_contrast-summary.html\n",
      "│   │   ├── sub-10159_contrast-new_contrast_smoothing-4mm_plot-stat-map.png\n",
      "│   │   ├── sub-10159_contrast-new_contrast_smoothing-8mm_contrast-summary.html\n",
      "│   │   └── sub-10159_contrast-new_contrast_smoothing-8mm_plot-stat-map.png\n",
      "│   └── sub-10159_task-stopsignal_run-1_design-matrix.jpg\n",
      "└── sub-10159_task-stopsignal_bids-container.json\n",
      "\n",
      "6 directories, 20 files\n"
     ]
    }
   ],
   "source": [
    "%%bash\n",
    "tree ./bids_test/derivatives/first-level-output/sub-10159/task-stopsignal/"
   ]
  },
  {
   "cell_type": "code",
   "execution_count": 31,
   "id": "1910f780",
   "metadata": {},
   "outputs": [
    {
     "data": {
      "image/png": "[encoded data removed]",
      "text/plain": [
       "<Figure size 633.6x187.2 with 5 Axes>"
      ]
     },
     "metadata": {},
     "output_type": "display_data"
    },
    {
     "data": {
      "image/png": "[encoded data removed]",
      "text/plain": [
       "<Figure size 633.6x187.2 with 5 Axes>"
      ]
     },
     "metadata": {},
     "output_type": "display_data"
    }
   ],
   "source": [
    "contrast_dirs = os.path.join(subject.first_level_output, 'models/contrast-maps')\n",
    "contrasts = [os.path.join(contrast_dirs, x) for x in os.listdir(contrast_dirs)]\n",
    "\n",
    "for file in contrasts:\n",
    "    nip.plot_glass_brain(file, threshold=2.8, plot_abs=False, display_mode='lyrz')"
   ]
  },
  {
   "cell_type": "markdown",
   "id": "dda04583",
   "metadata": {},
   "source": [
    "C'est voila! Two different smoothing kernels have been successfully applied to the data, and now we can repeat for all subjects in our BIDS Project. Happy modeling!\n",
    "\n",
    "----------"
   ]
  }
 ],
 "metadata": {
  "kernelspec": {
   "display_name": "Python 3",
   "language": "python",
   "name": "python3"
  },
  "language_info": {
   "codemirror_mode": {
    "name": "ipython",
    "version": 3
   },
   "file_extension": ".py",
   "mimetype": "text/x-python",
   "name": "python",
   "nbconvert_exporter": "python",
   "pygments_lexer": "ipython3",
   "version": "3.7.0"
  }
 },
 "nbformat": 4,
 "nbformat_minor": 5
}
